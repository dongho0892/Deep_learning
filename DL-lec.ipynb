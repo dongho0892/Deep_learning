{
 "cells": [
  {
   "cell_type": "markdown",
   "metadata": {},
   "source": [
    "## ADALINE\n",
    "* https://en.wikipedia.org/wiki/ADALINE"
   ]
  },
  {
   "cell_type": "markdown",
   "metadata": {},
   "source": [
    "### ADALINE vs. Perceptron\n",
    "* https://sebastianraschka.com/faq/docs/diff-perceptron-adaline-neuralnet.html    "
   ]
  },
  {
   "cell_type": "markdown",
   "metadata": {},
   "source": [
    "### 퍼셉트론 학습\n",
    "* http://untitledtblog.tistory.com/27"
   ]
  },
  {
   "cell_type": "code",
   "execution_count": 1,
   "metadata": {},
   "outputs": [],
   "source": [
    "import numpy as np\n",
    "\n",
    "class Perceptron:\n",
    "    def __init__(self, node=2):\n",
    "        self.W = np.random.rand(node + 1)\n",
    "        self.node = node\n",
    "        \n",
    "    def unit_f(self, net):\n",
    "        return 1 if net >= 0 else 0\n",
    "        \n",
    "    def show(self):\n",
    "        print(\"W: \" + str(self.W))\n",
    "        \n",
    "    def train(self, X, T, lr=0.05, verbose=False, maxIter=100):\n",
    "        ones_2d = np.ones((X.shape[0], 1))\n",
    "        X = np.hstack((ones_2d, X))\n",
    "        self.show()\n",
    "        keep_training = True\n",
    "        i = 0\n",
    "        \n",
    "        while keep_training and i < maxIter:\n",
    "            keep_training = False\n",
    "            print(\"Epoch: \" + str(i+1))\n",
    "            \n",
    "            for (x, t) in zip(X, T):\n",
    "                net = np.sum(self.W * x)\n",
    "                y = self.unit_f(net)\n",
    "                if y != t:\n",
    "                    keep_training = True           # 출력과 값이 다르면.. true 출력\n",
    "                    self.W = self.W + lr*x*(t-y)\n",
    "                    print(\"\\t<<Weights Updated>>\")\n",
    "                    print(\"\\t\\tW: \" + str(self.W))\n",
    "            \n",
    "            i += 1\n",
    "            \n",
    "    def predict(self, x):\n",
    "        x = np.hstack((1, x))\n",
    "        return self.unit_f(np.sum(self.W * x))"
   ]
  },
  {
   "cell_type": "code",
   "execution_count": 2,
   "metadata": {},
   "outputs": [],
   "source": [
    "p_AND = Perceptron()\n",
    "X = np.array([[0, 0], [0, 1], [1, 0], [1, 1]])\n",
    "T_AND = np.array([0, 0, 0, 1])"
   ]
  },
  {
   "cell_type": "code",
   "execution_count": 25,
   "metadata": {
    "scrolled": true
   },
   "outputs": [
    {
     "data": {
      "text/plain": [
       "array([[0, 0],\n",
       "       [0, 1],\n",
       "       [1, 0],\n",
       "       [1, 1]])"
      ]
     },
     "execution_count": 25,
     "metadata": {},
     "output_type": "execute_result"
    }
   ],
   "source": [
    "X"
   ]
  },
  {
   "cell_type": "code",
   "execution_count": 26,
   "metadata": {},
   "outputs": [
    {
     "data": {
      "text/plain": [
       "<__main__.Perceptron at 0x24958496c50>"
      ]
     },
     "execution_count": 26,
     "metadata": {},
     "output_type": "execute_result"
    }
   ],
   "source": [
    "p_AND"
   ]
  },
  {
   "cell_type": "code",
   "execution_count": 27,
   "metadata": {},
   "outputs": [
    {
     "data": {
      "text/plain": [
       "array([0, 0, 0, 1])"
      ]
     },
     "execution_count": 27,
     "metadata": {},
     "output_type": "execute_result"
    }
   ],
   "source": [
    "T_AND"
   ]
  },
  {
   "cell_type": "code",
   "execution_count": 3,
   "metadata": {},
   "outputs": [
    {
     "name": "stdout",
     "output_type": "stream",
     "text": [
      "W: [0.74692209 0.05470077 0.68024035]\n"
     ]
    }
   ],
   "source": [
    "p_AND.show()"
   ]
  },
  {
   "cell_type": "code",
   "execution_count": 4,
   "metadata": {
    "scrolled": true
   },
   "outputs": [
    {
     "name": "stdout",
     "output_type": "stream",
     "text": [
      "W: [0.74692209 0.05470077 0.68024035]\n",
      "Epoch: 1\n",
      "\t<<Weights Updated>>\n",
      "\t\tW: [0.69692209 0.05470077 0.68024035]\n",
      "\t<<Weights Updated>>\n",
      "\t\tW: [0.64692209 0.05470077 0.63024035]\n",
      "\t<<Weights Updated>>\n",
      "\t\tW: [0.59692209 0.00470077 0.63024035]\n",
      "Epoch: 2\n",
      "\t<<Weights Updated>>\n",
      "\t\tW: [0.54692209 0.00470077 0.63024035]\n",
      "\t<<Weights Updated>>\n",
      "\t\tW: [0.49692209 0.00470077 0.58024035]\n",
      "\t<<Weights Updated>>\n",
      "\t\tW: [ 0.44692209 -0.04529923  0.58024035]\n",
      "Epoch: 3\n",
      "\t<<Weights Updated>>\n",
      "\t\tW: [ 0.39692209 -0.04529923  0.58024035]\n",
      "\t<<Weights Updated>>\n",
      "\t\tW: [ 0.34692209 -0.04529923  0.53024035]\n",
      "\t<<Weights Updated>>\n",
      "\t\tW: [ 0.29692209 -0.09529923  0.53024035]\n",
      "Epoch: 4\n",
      "\t<<Weights Updated>>\n",
      "\t\tW: [ 0.24692209 -0.09529923  0.53024035]\n",
      "\t<<Weights Updated>>\n",
      "\t\tW: [ 0.19692209 -0.09529923  0.48024035]\n",
      "\t<<Weights Updated>>\n",
      "\t\tW: [ 0.14692209 -0.14529923  0.48024035]\n",
      "Epoch: 5\n",
      "\t<<Weights Updated>>\n",
      "\t\tW: [ 0.09692209 -0.14529923  0.48024035]\n",
      "\t<<Weights Updated>>\n",
      "\t\tW: [ 0.04692209 -0.14529923  0.43024035]\n",
      "Epoch: 6\n",
      "\t<<Weights Updated>>\n",
      "\t\tW: [-0.00307791 -0.14529923  0.43024035]\n",
      "\t<<Weights Updated>>\n",
      "\t\tW: [-0.05307791 -0.14529923  0.38024035]\n",
      "Epoch: 7\n",
      "\t<<Weights Updated>>\n",
      "\t\tW: [-0.10307791 -0.14529923  0.33024035]\n",
      "Epoch: 8\n",
      "\t<<Weights Updated>>\n",
      "\t\tW: [-0.15307791 -0.14529923  0.28024035]\n",
      "\t<<Weights Updated>>\n",
      "\t\tW: [-0.10307791 -0.09529923  0.33024035]\n",
      "Epoch: 9\n",
      "\t<<Weights Updated>>\n",
      "\t\tW: [-0.15307791 -0.09529923  0.28024035]\n",
      "Epoch: 10\n",
      "\t<<Weights Updated>>\n",
      "\t\tW: [-0.20307791 -0.09529923  0.23024035]\n",
      "\t<<Weights Updated>>\n",
      "\t\tW: [-0.15307791 -0.04529923  0.28024035]\n",
      "Epoch: 11\n",
      "\t<<Weights Updated>>\n",
      "\t\tW: [-0.20307791 -0.04529923  0.23024035]\n",
      "\t<<Weights Updated>>\n",
      "\t\tW: [-0.15307791  0.00470077  0.28024035]\n",
      "Epoch: 12\n",
      "\t<<Weights Updated>>\n",
      "\t\tW: [-0.20307791  0.00470077  0.23024035]\n",
      "Epoch: 13\n",
      "\t<<Weights Updated>>\n",
      "\t\tW: [-0.25307791  0.00470077  0.18024035]\n",
      "\t<<Weights Updated>>\n",
      "\t\tW: [-0.20307791  0.05470077  0.23024035]\n",
      "Epoch: 14\n",
      "\t<<Weights Updated>>\n",
      "\t\tW: [-0.25307791  0.05470077  0.18024035]\n",
      "\t<<Weights Updated>>\n",
      "\t\tW: [-0.20307791  0.10470077  0.23024035]\n",
      "Epoch: 15\n",
      "\t<<Weights Updated>>\n",
      "\t\tW: [-0.25307791  0.10470077  0.18024035]\n",
      "Epoch: 16\n"
     ]
    }
   ],
   "source": [
    "p_AND.train(X, T_AND)"
   ]
  },
  {
   "cell_type": "code",
   "execution_count": 5,
   "metadata": {},
   "outputs": [
    {
     "data": {
      "text/plain": [
       "0"
      ]
     },
     "execution_count": 5,
     "metadata": {},
     "output_type": "execute_result"
    }
   ],
   "source": [
    "p_AND.predict([0.21, 0.1])"
   ]
  },
  {
   "cell_type": "code",
   "execution_count": 6,
   "metadata": {},
   "outputs": [
    {
     "name": "stdout",
     "output_type": "stream",
     "text": [
      "W: [0.62509492 0.78578288 0.96375242]\n",
      "Epoch: 1\n",
      "\t<<Weights Updated>>\n",
      "\t\tW: [0.52509492 0.78578288 0.96375242]\n",
      "Epoch: 2\n",
      "\t<<Weights Updated>>\n",
      "\t\tW: [0.42509492 0.78578288 0.96375242]\n",
      "Epoch: 3\n",
      "\t<<Weights Updated>>\n",
      "\t\tW: [0.32509492 0.78578288 0.96375242]\n",
      "Epoch: 4\n",
      "\t<<Weights Updated>>\n",
      "\t\tW: [0.22509492 0.78578288 0.96375242]\n",
      "Epoch: 5\n",
      "\t<<Weights Updated>>\n",
      "\t\tW: [0.12509492 0.78578288 0.96375242]\n",
      "Epoch: 6\n",
      "\t<<Weights Updated>>\n",
      "\t\tW: [0.02509492 0.78578288 0.96375242]\n",
      "Epoch: 7\n",
      "\t<<Weights Updated>>\n",
      "\t\tW: [-0.07490508  0.78578288  0.96375242]\n",
      "Epoch: 8\n"
     ]
    }
   ],
   "source": [
    "p_OR = Perceptron()\n",
    "T_OR = np.array([0, 1, 1, 1])\n",
    "p_OR.train(X, T_OR, lr=0.1)"
   ]
  },
  {
   "cell_type": "code",
   "execution_count": 7,
   "metadata": {},
   "outputs": [
    {
     "name": "stdout",
     "output_type": "stream",
     "text": [
      "1\n",
      "1\n"
     ]
    }
   ],
   "source": [
    "print(p_OR.predict([0, 1]))\n",
    "print(p_OR.predict([0.1, 0.9]))"
   ]
  },
  {
   "cell_type": "code",
   "execution_count": 8,
   "metadata": {},
   "outputs": [
    {
     "name": "stdout",
     "output_type": "stream",
     "text": [
      "0\n"
     ]
    }
   ],
   "source": [
    "print(p_OR.predict([0.0, 0.0]))"
   ]
  },
  {
   "cell_type": "raw",
   "metadata": {},
   "source": []
  },
  {
   "cell_type": "raw",
   "metadata": {},
   "source": [
    "* 변수:\n",
    "  - 훈련 데이터: X, T\n",
    "  - 가중치: W\n",
    "  - 바이어스: W[0]\n",
    "  - 학습률: lr = 0.05\n",
    "  - 최대 반복 횟수: maxIter = 100"
   ]
  },
  {
   "cell_type": "code",
   "execution_count": 9,
   "metadata": {},
   "outputs": [],
   "source": [
    "X = np.array([[0, 0], [0, 1], [1, 0], [1, 1]])\n",
    "T_AND = np.array([0, 0, 0, 1])\n",
    "W = np.random.rand(X.shape[1]+1)\n",
    "lr = 0.05\n",
    "maxIter = 100"
   ]
  },
  {
   "cell_type": "code",
   "execution_count": 10,
   "metadata": {},
   "outputs": [
    {
     "name": "stdout",
     "output_type": "stream",
     "text": [
      "[0.72388349 0.28637588 0.05669812]\n"
     ]
    }
   ],
   "source": [
    "print(W)"
   ]
  },
  {
   "cell_type": "code",
   "execution_count": 11,
   "metadata": {},
   "outputs": [],
   "source": [
    "ones_2d = np.ones((X.shape[0], 1))"
   ]
  },
  {
   "cell_type": "code",
   "execution_count": 12,
   "metadata": {},
   "outputs": [],
   "source": [
    "X1 = np.hstack((ones_2d, X))"
   ]
  },
  {
   "cell_type": "raw",
   "metadata": {},
   "source": [
    "* 반복문 내에서 수행할 코드를 생각해 봅시다"
   ]
  },
  {
   "cell_type": "code",
   "execution_count": 13,
   "metadata": {},
   "outputs": [],
   "source": [
    "# 1. 입력 x와 W를 내적\n",
    "net = np.sum(X1[0] * W)"
   ]
  },
  {
   "cell_type": "code",
   "execution_count": 14,
   "metadata": {},
   "outputs": [],
   "source": [
    "y = 1 if net >=0 else 0"
   ]
  },
  {
   "cell_type": "code",
   "execution_count": 15,
   "metadata": {},
   "outputs": [
    {
     "name": "stdout",
     "output_type": "stream",
     "text": [
      "학습중...\n"
     ]
    }
   ],
   "source": [
    "if y != T_AND[0]:\n",
    "    #keep_training = True        \n",
    "    W = W + lr*X1[0]*(T_AND[0] - y)\n",
    "    print(\"학습중...\")"
   ]
  },
  {
   "cell_type": "raw",
   "metadata": {},
   "source": [
    "* 반복문 완성\n",
    "  : epoch 반복 (while)\n",
    "    - 입력 데이터 세트에 대해 가중치 업데이트가 있을 때마다\n",
    "    - 또는 최대 반복 횟수를 넘지 않을 때까지\n",
    "  : 데이터 세트의 개수 반복 (for)"
   ]
  },
  {
   "cell_type": "code",
   "execution_count": 21,
   "metadata": {},
   "outputs": [
    {
     "name": "stdout",
     "output_type": "stream",
     "text": [
      "Epoch: 1\n"
     ]
    }
   ],
   "source": [
    "i = 0\n",
    "keep_training = True\n",
    "while keep_training and i < maxIter:\n",
    "    keep_training = False\n",
    "    print(\"Epoch: \" + str(i+1))\n",
    "    \n",
    "    for (x, t) in zip(X1, T_AND):\n",
    "        net = np.sum(W*x)\n",
    "        y = 1 if net >=0 else 0\n",
    "        \n",
    "        if y != t:\n",
    "            keep_training = True\n",
    "            print(\"가중치 업데이트 중...\")\n",
    "            W = W + lr*x*(t - y)\n",
    "    i += 1"
   ]
  },
  {
   "cell_type": "code",
   "execution_count": 22,
   "metadata": {},
   "outputs": [
    {
     "name": "stdout",
     "output_type": "stream",
     "text": [
      "[-0.12611651  0.08637588  0.05669812]\n"
     ]
    }
   ],
   "source": [
    "print(W)"
   ]
  },
  {
   "cell_type": "code",
   "execution_count": 23,
   "metadata": {},
   "outputs": [],
   "source": [
    "def predict(W, x):\n",
    "    x = np.hstack((1, x))\n",
    "    net = W.dot(x)\n",
    "    return 1 if net >= 0 else 0"
   ]
  },
  {
   "cell_type": "code",
   "execution_count": 24,
   "metadata": {},
   "outputs": [
    {
     "data": {
      "text/plain": [
       "1"
      ]
     },
     "execution_count": 24,
     "metadata": {},
     "output_type": "execute_result"
    }
   ],
   "source": [
    "predict(W, [0.91, 1.03])"
   ]
  },
  {
   "cell_type": "code",
   "execution_count": null,
   "metadata": {},
   "outputs": [],
   "source": []
  },
  {
   "cell_type": "code",
   "execution_count": null,
   "metadata": {},
   "outputs": [],
   "source": []
  },
  {
   "cell_type": "code",
   "execution_count": 28,
   "metadata": {},
   "outputs": [],
   "source": [
    "## 70p 계단 함수의 그래프"
   ]
  },
  {
   "cell_type": "code",
   "execution_count": 33,
   "metadata": {},
   "outputs": [
    {
     "data": {
      "image/png": "[encoded data removed]",
      "text/plain": [
       "<Figure size 432x288 with 1 Axes>"
      ]
     },
     "metadata": {},
     "output_type": "display_data"
    }
   ],
   "source": [
    "import numpy as np\n",
    "import matplotlib.pylab as plt\n",
    "\n",
    "def step_function(x):\n",
    "    return np.array(x > 0, dtype=np.int)\n",
    "\n",
    "x = np.arange(-5.0, 5.0, 0.1)\n",
    "y = step_function(x)\n",
    "\n",
    "plt.plot(x,y)\n",
    "plt.ylim(-0.5, 1.5)\n",
    "plt.show()"
   ]
  },
  {
   "cell_type": "code",
   "execution_count": 36,
   "metadata": {},
   "outputs": [
    {
     "data": {
      "image/png": "[encoded data removed]",
      "text/plain": [
       "<Figure size 432x288 with 1 Axes>"
      ]
     },
     "metadata": {},
     "output_type": "display_data"
    }
   ],
   "source": [
    "def sigmoid(x):\n",
    "    return 1 / (1 + np.exp(-x))\n",
    "\n",
    "x = np.arange(-5.0, 5.0, 0.1)\n",
    "y = sigmoid(x)\n",
    "\n",
    "plt.plot(x,y)\n",
    "plt.ylim(-0, 1)\n",
    "plt.show()"
   ]
  },
  {
   "cell_type": "code",
   "execution_count": 37,
   "metadata": {},
   "outputs": [
    {
     "data": {
      "image/png": "[encoded data removed]",
      "text/plain": [
       "<Figure size 432x288 with 1 Axes>"
      ]
     },
     "metadata": {},
     "output_type": "display_data"
    }
   ],
   "source": [
    "def relu(x):\n",
    "    return np.maximum(0,x)\n",
    "\n",
    "x = np.arange(-5.0, 5.0, 0.1)\n",
    "y = sigmoid(x)\n",
    "\n",
    "plt.plot(x,y)\n",
    "plt.ylim(-0, 1)\n",
    "plt.show()"
   ]
  },
  {
   "cell_type": "code",
   "execution_count": 38,
   "metadata": {},
   "outputs": [],
   "source": [
    "\n",
    "import numpy as np"
   ]
  },
  {
   "cell_type": "code",
   "execution_count": 41,
   "metadata": {},
   "outputs": [],
   "source": [
    "A = np.array([1,2,3,4])"
   ]
  },
  {
   "cell_type": "code",
   "execution_count": 42,
   "metadata": {},
   "outputs": [
    {
     "data": {
      "text/plain": [
       "array([1, 2, 3, 4])"
      ]
     },
     "execution_count": 42,
     "metadata": {},
     "output_type": "execute_result"
    }
   ],
   "source": [
    "A"
   ]
  },
  {
   "cell_type": "code",
   "execution_count": 44,
   "metadata": {},
   "outputs": [
    {
     "data": {
      "text/plain": [
       "(4,)"
      ]
     },
     "execution_count": 44,
     "metadata": {},
     "output_type": "execute_result"
    }
   ],
   "source": [
    "A.shape"
   ]
  },
  {
   "cell_type": "code",
   "execution_count": 45,
   "metadata": {},
   "outputs": [
    {
     "data": {
      "text/plain": [
       "(4,)"
      ]
     },
     "execution_count": 45,
     "metadata": {},
     "output_type": "execute_result"
    }
   ],
   "source": [
    "np.shape(A)"
   ]
  },
  {
   "cell_type": "code",
   "execution_count": 46,
   "metadata": {},
   "outputs": [
    {
     "data": {
      "text/plain": [
       "1"
      ]
     },
     "execution_count": 46,
     "metadata": {},
     "output_type": "execute_result"
    }
   ],
   "source": [
    "np.ndim(A)"
   ]
  },
  {
   "cell_type": "code",
   "execution_count": 47,
   "metadata": {},
   "outputs": [
    {
     "data": {
      "text/plain": [
       "1"
      ]
     },
     "execution_count": 47,
     "metadata": {},
     "output_type": "execute_result"
    }
   ],
   "source": [
    "A.ndim"
   ]
  },
  {
   "cell_type": "code",
   "execution_count": 54,
   "metadata": {},
   "outputs": [
    {
     "data": {
      "text/plain": [
       "4"
      ]
     },
     "execution_count": 54,
     "metadata": {},
     "output_type": "execute_result"
    }
   ],
   "source": [
    "A.shape[0]"
   ]
  },
  {
   "cell_type": "code",
   "execution_count": 55,
   "metadata": {},
   "outputs": [
    {
     "data": {
      "text/plain": [
       "array([[1, 2],\n",
       "       [3, 4],\n",
       "       [5, 6]])"
      ]
     },
     "execution_count": 55,
     "metadata": {},
     "output_type": "execute_result"
    }
   ],
   "source": [
    "B = np.array([[1,2],[3,4],[5,6]]); B"
   ]
  },
  {
   "cell_type": "code",
   "execution_count": 56,
   "metadata": {},
   "outputs": [
    {
     "name": "stdout",
     "output_type": "stream",
     "text": [
      "2\n"
     ]
    }
   ],
   "source": [
    "print(B.ndim)"
   ]
  },
  {
   "cell_type": "code",
   "execution_count": 57,
   "metadata": {},
   "outputs": [
    {
     "name": "stdout",
     "output_type": "stream",
     "text": [
      "2\n"
     ]
    }
   ],
   "source": [
    "print(np.ndim(B))"
   ]
  },
  {
   "cell_type": "code",
   "execution_count": 59,
   "metadata": {},
   "outputs": [],
   "source": [
    "A = np.array([[1,2],[3,4]])\n",
    "B = np.array([[5,6],[7,8]])"
   ]
  },
  {
   "cell_type": "code",
   "execution_count": 60,
   "metadata": {},
   "outputs": [
    {
     "name": "stdout",
     "output_type": "stream",
     "text": [
      "[[19 22]\n",
      " [43 50]]\n",
      "[[19 22]\n",
      " [43 50]]\n"
     ]
    }
   ],
   "source": [
    "print(np.dot(A,B))\n",
    "print(A.dot(B))"
   ]
  },
  {
   "cell_type": "code",
   "execution_count": null,
   "metadata": {},
   "outputs": [],
   "source": []
  }
 ],
 "metadata": {
  "kernelspec": {
   "display_name": "Python 3",
   "language": "python",
   "name": "python3"
  },
  "language_info": {
   "codemirror_mode": {
    "name": "ipython",
    "version": 3
   },
   "file_extension": ".py",
   "mimetype": "text/x-python",
   "name": "python",
   "nbconvert_exporter": "python",
   "pygments_lexer": "ipython3",
   "version": "3.6.5"
  }
 },
 "nbformat": 4,
 "nbformat_minor": 2
}
